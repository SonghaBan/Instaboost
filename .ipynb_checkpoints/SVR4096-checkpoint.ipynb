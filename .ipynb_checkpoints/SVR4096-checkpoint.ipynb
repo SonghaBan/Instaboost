{
 "cells": [
  {
   "cell_type": "code",
   "execution_count": 1,
   "metadata": {
    "collapsed": false
   },
   "outputs": [],
   "source": [
    "from sklearn.svm import SVR\n",
    "from sklearn import svm\n",
    "from sklearn.model_selection import cross_val_score\n",
    "import numpy as np\n"
   ]
  },
  {
   "cell_type": "code",
   "execution_count": 2,
   "metadata": {
    "collapsed": true
   },
   "outputs": [],
   "source": [
    "def load_data(Xfile,Yfile):\n",
    "    X = np.loadtxt(Xfile,delimiter=',', dtype=np.float32)\n",
    "    Y = np.loadtxt(Yfile,delimiter=',', dtype=np.float32)\n",
    "    #Y /= 100\n",
    "    #np.minimum(1, Y)\n",
    "    \n",
    "    num_training = 10000\n",
    "    X_train = X[:num_training]\n",
    "    Y_train = Y[:num_training]\n",
    "    X_test = X[num_training:]\n",
    "    Y_test = Y[num_training:]\n",
    "    return X_train, Y_train, X_test, Y_test\n",
    "\n",
    "X_train,Y_train,X_test,Y_test = load_data('4096features.csv','labels.csv')"
   ]
  },
  {
   "cell_type": "code",
   "execution_count": 6,
   "metadata": {
    "collapsed": false
   },
   "outputs": [
    {
     "name": "stdout",
     "output_type": "stream",
     "text": [
      "rbf : [ 0.12244525  0.09762283  0.1005793  ...,  0.11035423  0.07410441\n",
      "  0.13392809]\n",
      "[ 0.14718063  0.03122013  0.14941064  0.19847085  0.24976107]\n",
      "-0.069789707119\n",
      "AVERAGE DIFFERENCE B/W PREDICTED VALUE & ACTUAL LABEL:\n",
      "0.088198348792\n"
     ]
    }
   ],
   "source": [
    "svr_rbf = SVR(kernel='rbf', C=1e4, gamma=0.1)\n",
    "\n",
    "y = svr_rbf.fit(X_train, Y_train).predict(X_test)\n",
    "\n",
    "print('rbf :',y)\n",
    "print(Y_test[:5])\n",
    "print(svr_rbf.score(X_test,Y_test))\n",
    "print(\"AVERAGE DIFFERENCE B/W PREDICTED VALUE & ACTUAL LABEL:\")\n",
    "print( sum( [abs( y[i] - Y_test[i]) for i in range(len(y)) ] ) / len(y) )"
   ]
  },
  {
   "cell_type": "code",
   "execution_count": null,
   "metadata": {
    "collapsed": true
   },
   "outputs": [],
   "source": [
    "def plot(predicted, Y_test):\n",
    "    predicted.sort()\n",
    "    Y_test.sort()\n",
    "    pylab.xlabel('data')\n",
    "    pylab.ylabel('predicted values\\nlabels')\n",
    "    data = range(len(Y_test))\n",
    "    pylab.xlim(0,len(data))\n",
    "    #pylab.ylim(0,0.2)\n",
    "    #pylab.plot(data, likes, label = 'likes')\n",
    "    pylab.plot(data, Y_test, label = 'labels')\n",
    "    pylab.plot(data, predicted, label = 'predicted values')\n",
    "    #pylab.plot(data, labels, label = 'labels(likes/followers)')\n",
    "    pylab.legend()\n",
    "    pylab.show()\n",
    "    \n",
    "plot(y, Y_test)"
   ]
  }
 ],
 "metadata": {
  "kernelspec": {
   "display_name": "Python 3",
   "language": "python",
   "name": "python3"
  },
  "language_info": {
   "codemirror_mode": {
    "name": "ipython",
    "version": 3
   },
   "file_extension": ".py",
   "mimetype": "text/x-python",
   "name": "python",
   "nbconvert_exporter": "python",
   "pygments_lexer": "ipython3",
   "version": "3.4.4"
  }
 },
 "nbformat": 4,
 "nbformat_minor": 0
}
