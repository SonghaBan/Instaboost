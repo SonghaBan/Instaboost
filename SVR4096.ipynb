{
 "cells": [
  {
   "cell_type": "code",
   "execution_count": 1,
   "metadata": {
    "collapsed": false
   },
   "outputs": [],
   "source": [
    "from sklearn.svm import SVR\n",
    "from sklearn import svm\n",
    "from sklearn.model_selection import cross_val_score\n",
    "import numpy as np\n"
   ]
  },
  {
   "cell_type": "code",
   "execution_count": 2,
   "metadata": {
    "collapsed": true
   },
   "outputs": [],
   "source": [
    "def load_data(Xfile,Yfile):\n",
    "    X = np.loadtxt(Xfile,delimiter=',', dtype=np.float32)\n",
    "    Y = np.loadtxt(Yfile,delimiter=',', dtype=np.float32)\n",
    "    #Y /= 100\n",
    "    #np.minimum(1, Y)\n",
    "    \n",
    "    num_training = 10000\n",
    "    X_train = X[:num_training]\n",
    "    Y_train = Y[:num_training]\n",
    "    X_test = X[num_training:]\n",
    "    Y_test = Y[num_training:]\n",
    "    return X_train, Y_train, X_test, Y_test\n",
    "\n",
    "X_train,Y_train,X_test,Y_test = load_data('4096features.csv','newlabels.csv')"
   ]
  },
  {
   "cell_type": "code",
   "execution_count": 3,
   "metadata": {
    "collapsed": false
   },
   "outputs": [
    {
     "name": "stdout",
     "output_type": "stream",
     "text": [
      "rbf : [ 0.47295338  0.41898295  0.48329586 ...,  0.52702122  0.41590943\n",
      "  0.47585969]\n",
      "[ 0.673787    0.32037899  0.68011802  0.80400199  0.896456  ]\n",
      "0.0405706948169\n",
      "AVERAGE DIFFERENCE B/W PREDICTED VALUE & ACTUAL LABEL:\n",
      "0.18641323302\n"
     ]
    }
   ],
   "source": [
    "svr_rbf = SVR(kernel='rbf')\n",
    "\n",
    "y = svr_rbf.fit(X_train, Y_train).predict(X_test)\n",
    "\n",
    "print('rbf :',y)\n",
    "print(Y_test[:5])\n",
    "print(svr_rbf.score(X_test,Y_test))\n",
    "print(\"AVERAGE DIFFERENCE B/W PREDICTED VALUE & ACTUAL LABEL:\")\n",
    "print( sum( [abs( y[i] - Y_test[i]) for i in range(len(y)) ] ) / len(y) )"
   ]
  },
  {
   "cell_type": "code",
   "execution_count": null,
   "metadata": {
    "collapsed": false
   },
   "outputs": [],
   "source": [
    "import pylab\n",
    "\n",
    "def plot(predicted, Y_test):\n",
    "    predicted.sort()\n",
    "    Y_test.sort()\n",
    "    pylab.xlabel('data')\n",
    "    pylab.ylabel('predicted values\\nlabels')\n",
    "    data = range(len(Y_test))\n",
    "    pylab.xlim(0,0.3)\n",
    "    pylab.ylim(0,0.3)\n",
    "    #pylab.plot(data, likes, label = 'likes')\n",
    "    #pylab.plot(data, Y_test, label = 'labels')\n",
    "    pylab.plot(Y_test, predicted, 'go')\n",
    "    #pylab.plot(data, labels, label = 'labels(likes/followers)')\n",
    "    pylab.legend()\n",
    "    pylab.show()\n",
    "    \n",
    "plot(y, Y_test)"
   ]
  },
  {
   "cell_type": "code",
   "execution_count": null,
   "metadata": {
    "collapsed": false
   },
   "outputs": [],
   "source": [
    "Y_train.shape"
   ]
  },
  {
   "cell_type": "raw",
   "metadata": {},
   "source": []
  }
 ],
 "metadata": {
  "kernelspec": {
   "display_name": "Python 3",
   "language": "python",
   "name": "python3"
  },
  "language_info": {
   "codemirror_mode": {
    "name": "ipython",
    "version": 3
   },
   "file_extension": ".py",
   "mimetype": "text/x-python",
   "name": "python",
   "nbconvert_exporter": "python",
   "pygments_lexer": "ipython3",
   "version": "3.4.4"
  }
 },
 "nbformat": 4,
 "nbformat_minor": 0
}
