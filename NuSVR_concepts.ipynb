{
 "cells": [
  {
   "cell_type": "code",
   "execution_count": 7,
   "metadata": {
    "collapsed": true
   },
   "outputs": [],
   "source": [
    "from sklearn.svm import NuSVR\n",
    "import numpy as np\n",
    "import pylab\n"
   ]
  },
  {
   "cell_type": "code",
   "execution_count": 4,
   "metadata": {
    "collapsed": true
   },
   "outputs": [],
   "source": [
    "def load_data(Xfile,Yfile):\n",
    "    X = np.loadtxt(Xfile,delimiter=',', dtype=np.float32)\n",
    "    Y = np.loadtxt(Yfile,delimiter=',', dtype=np.float32)\n",
    "    #Y /= 100\n",
    "    #np.minimum(1, Y)\n",
    "    \n",
    "    num_training = 10000\n",
    "    X_train = X[:num_training]\n",
    "    Y_train = Y[:num_training]\n",
    "    X_test = X[num_training:]\n",
    "    Y_test = Y[num_training:]\n",
    "    return X_train, Y_train, X_test, Y_test\n",
    "\n",
    "X_train,Y_train,X_test,Y_test = load_data('biconcepts.csv','labels.csv')"
   ]
  },
  {
   "cell_type": "code",
   "execution_count": 5,
   "metadata": {
    "collapsed": false
   },
   "outputs": [
    {
     "name": "stdout",
     "output_type": "stream",
     "text": [
      "NuSVR(C=1.5, cache_size=200, coef0=0.0, degree=3, gamma=0.005, kernel='rbf',\n",
      "   max_iter=-1, nu=0.5, shrinking=True, tol=0.001, verbose=False)\n",
      "[ 0.11459921  0.11256251  0.11534976  0.11330633  0.11926696]\n",
      "[ 0.03375867  0.02406885  0.0572073   0.04952671  0.05267104]\n",
      "-0.0219206958812\n",
      "AVERAGE DIFFERENCE B/W PREDICTED VALUE & ACTUAL LABEL:\n",
      "0.106314161695\n"
     ]
    }
   ],
   "source": [
    "clf = NuSVR(kernel='rbf',gamma = 0.005, C=1.5)\n",
    "#‘linear’, ‘poly’, ‘rbf’, ‘sigmoid’, ‘precomputed’\n",
    "print(clf)\n",
    "Estimator = clf.fit(X_train,Y_train)\n",
    "predicted = Estimator.predict(X_test)\n",
    "print(predicted[:5])\n",
    "print(Y_test[:5])\n",
    "print(clf.score(X_test,Y_test))\n",
    "print(\"AVERAGE DIFFERENCE B/W PREDICTED VALUE & ACTUAL LABEL:\")\n",
    "print( sum( [abs( predicted[i] - Y_test[i]) for i in range(len(predicted)) ] ) / len(predicted) )"
   ]
  },
  {
   "cell_type": "code",
   "execution_count": null,
   "metadata": {
    "collapsed": false
   },
   "outputs": [],
   "source": [
    "x = []\n",
    "ytest = []\n",
    "for i in range(5):\n",
    "    x.append(i+1)\n",
    "\n",
    "pylab.plot(x, Y_test[:5],'go')\n",
    "pylab.plot(x, predicted[:5],'bo')\n",
    "pylab.show()"
   ]
  },
  {
   "cell_type": "code",
   "execution_count": null,
   "metadata": {
    "collapsed": true
   },
   "outputs": [],
   "source": [
    "print()"
   ]
  }
 ],
 "metadata": {
  "kernelspec": {
   "display_name": "Python 3",
   "language": "python",
   "name": "python3"
  },
  "language_info": {
   "codemirror_mode": {
    "name": "ipython",
    "version": 3
   },
   "file_extension": ".py",
   "mimetype": "text/x-python",
   "name": "python",
   "nbconvert_exporter": "python",
   "pygments_lexer": "ipython3",
   "version": "3.4.4"
  }
 },
 "nbformat": 4,
 "nbformat_minor": 0
}
