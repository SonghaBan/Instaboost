{
 "cells": [
  {
   "cell_type": "code",
   "execution_count": 1,
   "metadata": {
    "collapsed": false
   },
   "outputs": [],
   "source": [
    "from sklearn.kernel_ridge import KernelRidge\n",
    "import numpy as np\n",
    "from sklearn.model_selection import GridSearchCV\n",
    "import pylab as pl\n"
   ]
  },
  {
   "cell_type": "code",
   "execution_count": 2,
   "metadata": {
    "collapsed": false
   },
   "outputs": [],
   "source": [
    "def load_data(Xfile,Yfile):\n",
    "    X = np.loadtxt(Xfile,delimiter=',', dtype=np.float32)\n",
    "    Y = np.loadtxt(Yfile,delimiter=',', dtype=np.float32)\n",
    "    #Y /= 100\n",
    "    #np.minimum(1, Y)\n",
    "    \n",
    "    num_training = 10000\n",
    "    X_train = X[:num_training]\n",
    "    Y_train = Y[:num_training]\n",
    "    X_test = X[num_training:]\n",
    "    Y_test = Y[num_training:]\n",
    "    return X_train, Y_train, X_test, Y_test\n",
    "\n",
    "X_train,Y_train,X_test,Y_test = load_data('4096features.csv','labels.csv')"
   ]
  },
  {
   "cell_type": "code",
   "execution_count": 9,
   "metadata": {
    "collapsed": false
   },
   "outputs": [
    {
     "name": "stderr",
     "output_type": "stream",
     "text": [
      "/Users/song-isong-i/anaconda/envs/cnnPy3/lib/python3.4/site-packages/scipy/linalg/basic.py:223: RuntimeWarning: scipy.linalg.solve\n",
      "Ill-conditioned matrix detected. Result is not guaranteed to be accurate.\n",
      "Reciprocal condition number: 1.1292954113885974e-14\n",
      "  ' condition number: {}'.format(rcond), RuntimeWarning)\n"
     ]
    },
    {
     "name": "stdout",
     "output_type": "stream",
     "text": [
      "[ 99221504.  18350080. -43646976.   4587520. -55443456.]\n",
      "[ 0.03375867  0.02406885  0.0572073   0.04952671  0.05267104]\n",
      "-3.61068568228e+17\n",
      "AVERAGE DIFFERENCE B/W PREDICTED VALUE & ACTUAL LABEL:\n",
      "92593776.7218\n"
     ]
    }
   ],
   "source": [
    "#kr = GridSearchCV(KernelRidge(kernel='rbf', gamma=0.1), cv=5,\n",
    "#                  param_grid={\"alpha\": [1e0, 0.1, 1e-2, 1e-3],\n",
    "#                              \"gamma\": np.logspace(-2, 2, 5)})\n",
    "#param_grid?\n",
    "\n",
    "kr = KernelRidge(kernel='rbf', gamma=0.1)\n",
    "\n",
    "kr.fit(X_train, Y_train)\n",
    "predicted = kr.predict(X_test)\n",
    "print(predicted[:5])\n",
    "print(Y_test[:5])\n",
    "print(kr.score(X_test,Y_test))\n",
    "print(\"AVERAGE DIFFERENCE B/W PREDICTED VALUE & ACTUAL LABEL:\")\n",
    "print( sum( [abs( predicted[i] - Y_test[i]) for i in range(len(predicted)) ] ) / len(predicted) )"
   ]
  },
  {
   "cell_type": "code",
   "execution_count": null,
   "metadata": {
    "collapsed": true
   },
   "outputs": [],
   "source": [
    "x = []\n",
    "ytest = []\n",
    "for i in range(len(Y_test)):\n",
    "    x.append(i+1)\n",
    "\n",
    "pl.plot(x, Y_test[:5],'go')\n",
    "pl.plot(x, predicted[:5],'bo')\n",
    "pl.show()"
   ]
  },
  {
   "cell_type": "code",
   "execution_count": null,
   "metadata": {
    "collapsed": true
   },
   "outputs": [],
   "source": []
  }
 ],
 "metadata": {
  "kernelspec": {
   "display_name": "Python 3",
   "language": "python",
   "name": "python3"
  },
  "language_info": {
   "codemirror_mode": {
    "name": "ipython",
    "version": 3
   },
   "file_extension": ".py",
   "mimetype": "text/x-python",
   "name": "python",
   "nbconvert_exporter": "python",
   "pygments_lexer": "ipython3",
   "version": "3.4.4"
  }
 },
 "nbformat": 4,
 "nbformat_minor": 0
}
