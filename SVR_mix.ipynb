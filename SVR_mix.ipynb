{
 "cells": [
  {
   "cell_type": "code",
   "execution_count": 2,
   "metadata": {
    "collapsed": true
   },
   "outputs": [],
   "source": [
    "from sklearn.svm import SVR\n",
    "from sklearn import svm\n",
    "from sklearn.model_selection import cross_val_score\n",
    "import numpy as np"
   ]
  },
  {
   "cell_type": "code",
   "execution_count": 3,
   "metadata": {
    "collapsed": false
   },
   "outputs": [
    {
     "name": "stdout",
     "output_type": "stream",
     "text": [
      "posts_filtered.csv\n"
     ]
    },
    {
     "name": "stderr",
     "output_type": "stream",
     "text": [
      "/Users/song-isong-i/anaconda/envs/cnnPy3/lib/python3.4/site-packages/ipykernel/__main__.py:6: DeprecationWarning: 'U' mode is deprecated\n"
     ]
    }
   ],
   "source": [
    "import csv\n",
    "\n",
    "def file_to_list(file):\n",
    "    data = []\n",
    "    print(file)\n",
    "    f = open(file, 'rU')\n",
    "    contents = csv.reader(f.read().splitlines())\n",
    "    count = 0\n",
    "    try:\n",
    "        for c in contents:\n",
    "            count += 1\n",
    "            data.append(c)\n",
    "    except Exception as e:\n",
    "        print(\"count\",count)\n",
    "        raise e\n",
    "\n",
    "    return data\n",
    "\n",
    "def important_lists(data):\n",
    "    likes = []\n",
    "    followers = []\n",
    "    count = 0\n",
    "    try:\n",
    "        for d in data:\n",
    "            count += 1\n",
    "            likes.append(int(d[1]))\n",
    "            followers.append(int(d[7]))\n",
    "    except Exception as e:\n",
    "        print(\"count\", count)\n",
    "        raise e\n",
    "    return likes, followers\n",
    "\n",
    "data = file_to_list('posts_filtered.csv')\n",
    "likes, followers = important_lists(data)\n",
    "concepts = np.loadtxt('sconcepts.csv',delimiter=',', dtype=np.float32)\n",
    "Y = np.array(likes[:])"
   ]
  },
  {
   "cell_type": "code",
   "execution_count": 4,
   "metadata": {
    "collapsed": false
   },
   "outputs": [],
   "source": [
    "likes = np.array(likes)\n",
    "followers = np.array(followers)\n",
    "followers = followers.reshape(1500,10)\n",
    "likes = likes.reshape(1500,10)\n",
    "for i in range(len(likes)):\n",
    "    likes[i] = np.repeat(np.mean(likes[i]),10)\n",
    "likes = likes.reshape(15000,)\n",
    "followers = followers.reshape(15000,)\n",
    "likes = (likes - np.mean(likes)) / np.std(likes)\n",
    "followers = (followers - np.mean(followers)) / np.std(followers)\n",
    "concepts = (concepts - np.mean(concepts)) / np.std(concepts)\n",
    "Y = (Y-np.mean(Y))/np.std(Y)"
   ]
  },
  {
   "cell_type": "code",
   "execution_count": 5,
   "metadata": {
    "collapsed": false
   },
   "outputs": [
    {
     "name": "stdout",
     "output_type": "stream",
     "text": [
      "(15000, 575)\n",
      "[[-0.11232649 -0.080576   -0.10812723 ..., -0.10728981  0.05517381\n",
      "   0.26519582]\n",
      " [-0.11550212 -0.11269207 -0.11399331 ..., -0.10567145  0.05517381\n",
      "   0.26519582]\n",
      " [-0.113627   -0.10881187 -0.09144271 ..., -0.08886152  0.05517381\n",
      "   0.26519582]\n",
      " ..., \n",
      " [-0.11263549 -0.1085724  -0.09223315 ..., -0.1009998  -0.20741918\n",
      "  -0.16748031]\n",
      " [-0.11591945 -0.11602373 -0.11277547 ..., -0.10263075 -0.20741918\n",
      "  -0.16748031]\n",
      " [-0.11586875 -0.11601422 -0.09755899 ..., -0.11348407 -0.20741918\n",
      "  -0.16748031]]\n"
     ]
    }
   ],
   "source": [
    "X = []\n",
    "for i in range(len(concepts)):\n",
    "    x=np.hstack((concepts[i],likes[i]))\n",
    "    x=np.hstack((x,followers[i]))\n",
    "    X.append(x)\n",
    "X = np.array(X)\n",
    "print(X.shape)\n",
    "print(X)\n"
   ]
  },
  {
   "cell_type": "code",
   "execution_count": 6,
   "metadata": {
    "collapsed": false
   },
   "outputs": [
    {
     "data": {
      "text/plain": [
       "-0.21330813636172666"
      ]
     },
     "execution_count": 6,
     "metadata": {},
     "output_type": "execute_result"
    }
   ],
   "source": [
    "np.min(Y)"
   ]
  },
  {
   "cell_type": "code",
   "execution_count": 7,
   "metadata": {
    "collapsed": true
   },
   "outputs": [],
   "source": [
    "num_training = 12500\n",
    "X_train = X[:num_training]\n",
    "Y_train = Y[:num_training]\n",
    "X_test = X[num_training:]\n",
    "Y_test = Y[num_training:]\n"
   ]
  },
  {
   "cell_type": "code",
   "execution_count": 8,
   "metadata": {
    "collapsed": false,
    "scrolled": true
   },
   "outputs": [
    {
     "name": "stdout",
     "output_type": "stream",
     "text": [
      "rbf : [-0.2365501  -0.26445521  0.07401786  0.00106389 -0.15371594  0.04879354\n",
      " -0.12837388  0.09630093 -0.22248204  0.09601209]\n",
      "[-0.21327022 -0.21328647 -0.21328105 -0.21328105 -0.21328647 -0.21328105\n",
      " -0.21327563 -0.21327022 -0.21327563 -0.21324855]\n",
      "0.0495876670368\n",
      "AVERAGE DIFFERENCE B/W PREDICTED VALUE & ACTUAL LABEL:\n",
      "0.411563686121\n"
     ]
    }
   ],
   "source": [
    "svr_rbf = SVR(kernel='rbf', C=1e4, gamma=0.1)\n",
    "\n",
    "y = svr_rbf.fit(X_train, Y_train).predict(X_test)\n",
    "\n",
    "print('rbf :',y[:10])\n",
    "print(Y_test[:10])\n",
    "print(svr_rbf.score(X_test,Y_test))\n",
    "print(\"AVERAGE DIFFERENCE B/W PREDICTED VALUE & ACTUAL LABEL:\")\n",
    "print( sum( [abs( y[i] - Y_test[i]) for i in range(len(y)) ] ) / len(y) )"
   ]
  },
  {
   "cell_type": "code",
   "execution_count": 9,
   "metadata": {
    "collapsed": false
   },
   "outputs": [
    {
     "name": "stdout",
     "output_type": "stream",
     "text": [
      "rbf : [ 0.09629958  0.09629127  0.09630093  0.09629684  0.09630116  0.09630093\n",
      "  0.09630096  0.03331051  0.09629098  0.09630093]\n",
      "[-0.18687207 -0.18811261 -0.20144983 -0.19552338 -0.19902833 -0.19544754\n",
      " -0.19618428 -0.20053973 -0.20051265 -0.20234367]\n"
     ]
    }
   ],
   "source": [
    "print('rbf :',y[2490:])\n",
    "print(Y_test[2490:])"
   ]
  },
  {
   "cell_type": "code",
   "execution_count": null,
   "metadata": {
    "collapsed": true
   },
   "outputs": [],
   "source": []
  }
 ],
 "metadata": {
  "kernelspec": {
   "display_name": "Python 3",
   "language": "python",
   "name": "python3"
  },
  "language_info": {
   "codemirror_mode": {
    "name": "ipython",
    "version": 3
   },
   "file_extension": ".py",
   "mimetype": "text/x-python",
   "name": "python",
   "nbconvert_exporter": "python",
   "pygments_lexer": "ipython3",
   "version": "3.4.4"
  }
 },
 "nbformat": 4,
 "nbformat_minor": 0
}
